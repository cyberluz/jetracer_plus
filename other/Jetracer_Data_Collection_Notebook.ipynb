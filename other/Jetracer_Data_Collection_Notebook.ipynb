{
 "cells": [
  {
   "cell_type": "markdown",
   "metadata": {},
   "source": [
    "# Jetracer Data Collection Notebook\n",
    "Author: George Gorospe\n",
    "\n",
    "About: Data collection for the jetracer platform is here made easier through automated data collection. A simple timer is used to collect images at a controlled interval. Collected images may be placed in specified folders. \n",
    "\n",
    "Our goal is to manually drive our racer on a track while collecting data. Afterwards the data can be labeled with a different notebook."
   ]
  },
  {
   "cell_type": "code",
   "execution_count": 1,
   "metadata": {},
   "outputs": [
    {
     "ename": "ModuleNotFoundError",
     "evalue": "No module named 'jetbot'",
     "output_type": "error",
     "traceback": [
      "\u001b[0;31m---------------------------------------------------------------------------\u001b[0m",
      "\u001b[0;31mModuleNotFoundError\u001b[0m                       Traceback (most recent call last)",
      "\u001b[0;32m<ipython-input-1-e0d8f942d232>\u001b[0m in \u001b[0;36m<module>\u001b[0;34m\u001b[0m\n\u001b[1;32m      9\u001b[0m \u001b[0;34m\u001b[0m\u001b[0m\n\u001b[1;32m     10\u001b[0m \u001b[0;31m# Camera and Motor Interface for JetBot\u001b[0m\u001b[0;34m\u001b[0m\u001b[0;34m\u001b[0m\u001b[0;34m\u001b[0m\u001b[0m\n\u001b[0;32m---> 11\u001b[0;31m \u001b[0;32mfrom\u001b[0m \u001b[0mjetbot\u001b[0m \u001b[0;32mimport\u001b[0m \u001b[0mCamera\u001b[0m\u001b[0;34m,\u001b[0m \u001b[0mbgr8_to_jpeg\u001b[0m\u001b[0;34m\u001b[0m\u001b[0;34m\u001b[0m\u001b[0m\n\u001b[0m\u001b[1;32m     12\u001b[0m \u001b[0;34m\u001b[0m\u001b[0m\n\u001b[1;32m     13\u001b[0m \u001b[0;31m# Python basic pakcages for image annotation\u001b[0m\u001b[0;34m\u001b[0m\u001b[0;34m\u001b[0m\u001b[0;34m\u001b[0m\u001b[0m\n",
      "\u001b[0;31mModuleNotFoundError\u001b[0m: No module named 'jetbot'"
     ]
    }
   ],
   "source": [
    "# Importing the required libraries\n",
    "# IPython Libraries for display and widgets\n",
    "import traitlets\n",
    "import ipywidgets\n",
    "import ipywidgets.widgets as widgets\n",
    "from ipywidgets import interact, interactive, fixed, interact_manual\n",
    "from IPython.display import display\n",
    "\n",
    "\n",
    "# Camera and Motor Interface for JetBot\n",
    "from jetbot import Camera, bgr8_to_jpeg\n",
    "\n",
    "# Python basic pakcages for image annotation\n",
    "from uuid import uuid1\n",
    "import os\n",
    "import glob\n",
    "import datetime\n",
    "import numpy as np\n",
    "import cv2\n",
    "import time"
   ]
  },
  {
   "cell_type": "raw",
   "metadata": {},
   "source": [
    "### Data Collection\n",
    "\n",
    "The data collection sequence is a little complicated so we'll need to do this step by step.\n",
    "\n",
    "First we'll specify a name and create a folder to hold our data. Later, we'll monitor the number of files in this folder.\n",
    "Next, we'll create the timer and the function for collecting and naming the images. We'll also implement a number box to specify our timer interval.\n",
    "Finally, we'll display the camera feed along with buttons for starting and stopping the collection process"
   ]
  },
  {
   "cell_type": "markdown",
   "metadata": {},
   "source": [
    "### Todo list, a collection of possible improvements for this notebook:\n",
    "1. Add a short timer before collection begins\n",
    "2. Add a 'desired number of samples to collect\" control"
   ]
  },
  {
   "cell_type": "markdown",
   "metadata": {},
   "source": [
    "### Creating a Folder to Hold the Collected Data\n",
    "We can use python to create a folder to hold our data.\n",
    "We'll use ipywidgets to create a dialog box to get a folder name from the user.\n",
    "If the folder specified by the user already exists, we'll notify the user."
   ]
  },
  {
   "cell_type": "code",
   "execution_count": 2,
   "metadata": {},
   "outputs": [
    {
     "data": {
      "application/vnd.jupyter.widget-view+json": {
       "model_id": "c4317d9195ed4c748d8ee063daea47a2",
       "version_major": 2,
       "version_minor": 0
      },
      "text/plain": [
       "interactive(children=(Text(value='structured_string', description='Enter Label:', placeholder='structured_stri…"
      ]
     },
     "metadata": {},
     "output_type": "display_data"
    }
   ],
   "source": [
    "import os  # This library allows us to explore and modify the file structure on the Nano\n",
    "# Creating a function to add a folder to our directory\n",
    "def folder_function(label):\n",
    "    # Using the \"try/except\" statement here because the makedirs function can throw an error if the directory exists already\n",
    "    try:\n",
    "        os.makedirs('data/'+label)\n",
    "        print(\"Creating data folder: data/\"+label)\n",
    "    except:\n",
    "        print('Directory not created because it already exists')\n",
    "                \n",
    "    \n",
    "# Creating the interactive text box widget named 'label'\n",
    "interactiveTextBox = interactive(folder_function,{'manual': True}, label = widgets.Text(value='structured_string',placeholder = 'structured_string',description='Enter Label:'));\n",
    "interactiveTextBox # calling the interactive element"
   ]
  },
  {
   "cell_type": "markdown",
   "metadata": {},
   "source": [
    "Here we want to create a new folder with our specific name. In this case the name will be representative of the full dataset inside. So if you're collecting data at a school, \"school\" is a good choice.\n",
    "Or if you're collecting during daytime, \"school_daytime\" can be a good, representative folder name.\n",
    "\n",
    "The folder name is very important in this case because the actual data file names will be automatically generated later, so we want the folder name to be very descriptive. \n",
    "\n",
    "We can use the interact_manual function to create a textbox which carries out the folder_function and creates our new folder.\n",
    "\n",
    "Next we'll define the save_snapshot function that will collect an image with the camera and save it to the new folder.\n",
    "Since we don't want to manually name each image we collect, we'll use the ``uuid`` package in python, which defines the ``uuid1`` method to generate\n",
    "a unique identifier.  This unique identifier is generated from information like the current time and the machine address. We go through this complicated process so that we never create two files with the same name."
   ]
  },
  {
   "cell_type": "markdown",
   "metadata": {},
   "source": [
    "Next we'll create the interval duration input box. For this feature we need a min, max, and step values.\n",
    "The output value is available as interval.value."
   ]
  },
  {
   "cell_type": "code",
   "execution_count": 3,
   "metadata": {},
   "outputs": [
    {
     "data": {
      "application/vnd.jupyter.widget-view+json": {
       "model_id": "80a96ead6b4e4df6ab9687e2a4451e71",
       "version_major": 2,
       "version_minor": 0
      },
      "text/plain": [
       "BoundedFloatText(value=1.5, description='Interval:', max=5.0, min=0.1, step=0.1)"
      ]
     },
     "metadata": {},
     "output_type": "display_data"
    }
   ],
   "source": [
    "# Interval Duration Input Box\n",
    "interval = widgets.BoundedFloatText(\n",
    "    value=1.5,\n",
    "    min=0.1,\n",
    "    max=5.0,\n",
    "    step=0.1,\n",
    "    description='Interval:',\n",
    "    disabled=False\n",
    ")\n",
    "# select your interval duration for automated data collection\n",
    "display(interval)"
   ]
  },
  {
   "cell_type": "markdown",
   "metadata": {},
   "source": [
    "Setting up the RepeatedTimer:\n",
    "\n",
    "We're now going to create a class for a RepeatedTimer object. This object will be useful in repeatedly collecting images as we drive the jetracer.\n",
    "\n",
    "This class has a self, run, start, and stop calls.\n",
    "\n",
    "The inputs to this class are: the interval, the function to be repeated, and any inputs to that function)"
   ]
  },
  {
   "cell_type": "code",
   "execution_count": 4,
   "metadata": {},
   "outputs": [],
   "source": [
    "from threading import Timer\n",
    "from uuid import uuid1\n",
    "\n",
    "label = interactiveTextBox.children[0].value # take the label text from the interactive text box module\n",
    "directory = 'data/' + label\n",
    "\n",
    "\n",
    "class RepeatedTimer(object):\n",
    "    def __init__(self, interval, function, *args, **kwargs):\n",
    "        self._timer     = None\n",
    "        self.interval   = interval\n",
    "        self.function   = function\n",
    "        self.args       = args\n",
    "        self.kwargs     = kwargs\n",
    "        self.is_running = False\n",
    "        self.start()\n",
    "\n",
    "    def _run(self):\n",
    "        self.is_running = False\n",
    "        self.start()\n",
    "        self.function(*self.args, **self.kwargs)\n",
    "\n",
    "    def start(self):\n",
    "        if not self.is_running:\n",
    "            self._timer = Timer(self.interval, self._run)\n",
    "            self._timer.start()\n",
    "            self.is_running = True\n",
    "\n",
    "    def stop(self):\n",
    "        self._timer.cancel()\n",
    "        self.is_running = False\n",
    "\n",
    "    \n",
    "def save_snapshot():\n",
    "    global image_count\n",
    "    image_path = os.path.join(directory, str(uuid1()) + '.jpg')\n",
    "    with open(image_path,'wb') as f:\n",
    "        f.write(image.value)\n",
    "        image_count.value = len(os.listdir(directory))"
   ]
  },
  {
   "cell_type": "markdown",
   "metadata": {},
   "source": [
    "The next cell finishes the camera setup and user interface."
   ]
  },
  {
   "cell_type": "code",
   "execution_count": 5,
   "metadata": {},
   "outputs": [
    {
     "data": {
      "application/vnd.jupyter.widget-view+json": {
       "model_id": "3deeb732201f48a297410b4afaf0d6f0",
       "version_major": 2,
       "version_minor": 0
      },
      "text/plain": [
       "Image(value=b'\\xff\\xd8\\xff\\xe0\\x00\\x10JFIF\\x00\\x01\\x01\\x00\\x00\\x01\\x00\\x01\\x00\\x00\\xff\\xdb\\x00C\\x00\\x02\\x01\\x0…"
      ]
     },
     "metadata": {},
     "output_type": "display_data"
    },
    {
     "data": {
      "application/vnd.jupyter.widget-view+json": {
       "model_id": "2894d1c754a5498984082141940e6c1a",
       "version_major": 2,
       "version_minor": 0
      },
      "text/plain": [
       "HBox(children=(IntText(value=0, continuous_update=True, layout=Layout(height='64px', width='128px')), Button(b…"
      ]
     },
     "metadata": {},
     "output_type": "display_data"
    }
   ],
   "source": [
    "# Camera setup\n",
    "camera = Camera.instance(width=224, height=224)\n",
    "image = widgets.Image(format='jpeg', width=224, height=224)  # this width and height doesn't necessarily have to match the camera\n",
    "camera_link = traitlets.dlink((camera, 'value'), (image, 'value'), transform=bgr8_to_jpeg)\n",
    "\n",
    "# Button creation and widget layout\n",
    "button_layout = widgets.Layout(width='128px', height='64px')\n",
    "# Buttons to controll data collection\n",
    "start_button = widgets.Button(description='Start Collection', button_style='success', layout=button_layout)\n",
    "stop_button = widgets.Button(description='Stop Collection', button_style='danger', layout=button_layout)\n",
    "# image_count is used to display the number of images in the folder\n",
    "image_count = widgets.IntText(layout=button_layout,continuous_update=True, value=len(os.listdir(directory)))\n",
    "    \n",
    "# attach the callbacks, we use a 'lambda' function to ignore the\n",
    "# parameter that the on_click event would provide to our function\n",
    "# because we don't need it.\n",
    "start_button.on_click(lambda x: rt.start())\n",
    "stop_button.on_click(lambda x: rt.stop())\n",
    "\n",
    "# Setup of the repeated timer to handle data collection\n",
    "rt = RepeatedTimer(interval.value, save_snapshot) # it auto-starts, no need of rt.start()\n",
    "rt.stop()\n",
    "\n",
    "# User Interface\n",
    "display(image)\n",
    "display(widgets.HBox([image_count, start_button, stop_button]))\n",
    "rt.start()"
   ]
  },
  {
   "cell_type": "code",
   "execution_count": null,
   "metadata": {},
   "outputs": [],
   "source": []
  }
 ],
 "metadata": {
  "interpreter": {
   "hash": "e2313c7804ff011807c650ac789c81fd46d39f1391f2abc612040a850db50565"
  },
  "kernelspec": {
   "display_name": "Python 3",
   "language": "python",
   "name": "python3"
  },
  "language_info": {
   "codemirror_mode": {
    "name": "ipython",
    "version": 3
   },
   "file_extension": ".py",
   "mimetype": "text/x-python",
   "name": "python",
   "nbconvert_exporter": "python",
   "pygments_lexer": "ipython3",
   "version": "3.8.8"
  }
 },
 "nbformat": 4,
 "nbformat_minor": 4
}
